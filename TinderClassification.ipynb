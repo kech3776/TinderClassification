{
 "cells": [
  {
   "cell_type": "markdown",
   "id": "5be81199",
   "metadata": {},
   "source": [
    "# NLP Tinder Play Store Reviews\n",
    "\n",
    "## Introduction\n",
    "\n",
    "Dating apps like Tinder have exploded in popularity over the past decade. However, not everyone has had a positive experience using them. Going through the review section on the Google play store can give us some insight on what it does well and what it lacks given the rating from a user. However, there are hundreds of thousands of reviews in the Google play store and one can't physically go through and analyze all of them. This is where deep learning becomes useful! Through deep learning, we can train models from given data to predict the sentiment of future reviews. This sentiment analysis can be useful to see if any changes to Tinder or any other app is bringing value to its users. \n",
    "\n",
    "The order of this notebook will be shown as:\n",
    "1. Describing the Tinder reviews dataset\n",
    "2. Doing Exploratory Data Analysis(EDA) on the Tinder dataset\n",
    "3. Describing and Running the LSTM models\n",
    "4. Describing and Running the GRU models\n",
    "5. Analyzing Results from the LSTM and GRU model\n",
    "6. Conclusion\n",
    "\n",
    "First, we'll import some of the import some of the common libraries we need such as numpy, pandas and tensorflow."
   ]
  },
  {
   "cell_type": "code",
   "execution_count": 1,
   "id": "473af3f2",
   "metadata": {},
   "outputs": [],
   "source": [
    "import numpy as np\n",
    "import pandas as pd\n",
    "import matplotlib.pyplot as plt\n",
    "import seaborn as sns\n",
    "import tensorflow as tf\n",
    "import keras"
   ]
  },
  {
   "cell_type": "markdown",
   "id": "27598e61",
   "metadata": {},
   "source": [
    "## Dataset and the Problem"
   ]
  },
  {
   "cell_type": "markdown",
   "id": "72a4fd4d",
   "metadata": {},
   "source": [
    "Let's import the Tinder review dataset. The dataset can be found on Kaggle here:\n",
    "\n",
    "https://www.kaggle.com/datasets/shivkumarganesh/tinder-google-play-store-review\n",
    "\n",
    "As seen below, there are a total of 440,387 reveiws. The content column contains the review. The score is the user rating of Tinder where 1 is the lowest and 5 is the highest. Our goal is to train deep learning models to be able to predict if a future review is a positive reveiw or a negative review."
   ]
  },
  {
   "cell_type": "code",
   "execution_count": 2,
   "id": "30be68d8",
   "metadata": {},
   "outputs": [],
   "source": [
    "tinder = pd.read_csv('tinder_google_play_reviews.csv')"
   ]
  },
  {
   "cell_type": "code",
   "execution_count": 3,
   "id": "d9a9bfe7",
   "metadata": {},
   "outputs": [
    {
     "name": "stdout",
     "output_type": "stream",
     "text": [
      "<class 'pandas.core.frame.DataFrame'>\n",
      "RangeIndex: 440387 entries, 0 to 440386\n",
      "Data columns (total 10 columns):\n",
      " #   Column                Non-Null Count   Dtype \n",
      "---  ------                --------------   ----- \n",
      " 0   reviewId              440387 non-null  object\n",
      " 1   userName              440383 non-null  object\n",
      " 2   userImage             440387 non-null  object\n",
      " 3   content               440351 non-null  object\n",
      " 4   score                 440387 non-null  int64 \n",
      " 5   thumbsUpCount         440387 non-null  int64 \n",
      " 6   reviewCreatedVersion  336727 non-null  object\n",
      " 7   at                    440387 non-null  object\n",
      " 8   replyContent          25372 non-null   object\n",
      " 9   repliedAt             25372 non-null   object\n",
      "dtypes: int64(2), object(8)\n",
      "memory usage: 33.6+ MB\n"
     ]
    }
   ],
   "source": [
    "tinder.info()"
   ]
  },
  {
   "cell_type": "markdown",
   "id": "4c8dbb67",
   "metadata": {},
   "source": [
    "## Exploratory Data Analysis\n",
    "\n",
    "### Initial Look\n",
    "\n",
    "First, we will remove any of the columns that we do not need. Now lets take a closer look at the dataset. We see that most of the ratings given are either a 1 or a 5 with fewer ratings in between. "
   ]
  },
  {
   "cell_type": "code",
   "execution_count": 4,
   "id": "2c54cf62",
   "metadata": {},
   "outputs": [
    {
     "data": {
      "text/html": [
       "<div>\n",
       "<style scoped>\n",
       "    .dataframe tbody tr th:only-of-type {\n",
       "        vertical-align: middle;\n",
       "    }\n",
       "\n",
       "    .dataframe tbody tr th {\n",
       "        vertical-align: top;\n",
       "    }\n",
       "\n",
       "    .dataframe thead th {\n",
       "        text-align: right;\n",
       "    }\n",
       "</style>\n",
       "<table border=\"1\" class=\"dataframe\">\n",
       "  <thead>\n",
       "    <tr style=\"text-align: right;\">\n",
       "      <th></th>\n",
       "      <th>content</th>\n",
       "      <th>score</th>\n",
       "    </tr>\n",
       "  </thead>\n",
       "  <tbody>\n",
       "    <tr>\n",
       "      <th>0</th>\n",
       "      <td>Not very inclusive. This app for one forces yo...</td>\n",
       "      <td>2</td>\n",
       "    </tr>\n",
       "    <tr>\n",
       "      <th>1</th>\n",
       "      <td>Unfortunately, at this point, the only people ...</td>\n",
       "      <td>1</td>\n",
       "    </tr>\n",
       "    <tr>\n",
       "      <th>2</th>\n",
       "      <td>👍</td>\n",
       "      <td>5</td>\n",
       "    </tr>\n",
       "    <tr>\n",
       "      <th>3</th>\n",
       "      <td>app hides you and forces you to spend money to...</td>\n",
       "      <td>1</td>\n",
       "    </tr>\n",
       "    <tr>\n",
       "      <th>4</th>\n",
       "      <td>Watch out, they will SHADOWBAN you FOR NO REAS...</td>\n",
       "      <td>1</td>\n",
       "    </tr>\n",
       "  </tbody>\n",
       "</table>\n",
       "</div>"
      ],
      "text/plain": [
       "                                             content  score\n",
       "0  Not very inclusive. This app for one forces yo...      2\n",
       "1  Unfortunately, at this point, the only people ...      1\n",
       "2                                                  👍      5\n",
       "3  app hides you and forces you to spend money to...      1\n",
       "4  Watch out, they will SHADOWBAN you FOR NO REAS...      1"
      ]
     },
     "execution_count": 4,
     "metadata": {},
     "output_type": "execute_result"
    }
   ],
   "source": [
    "tinder = tinder.drop(columns = ['reviewId', 'userName', 'userImage', 'thumbsUpCount', 'reviewCreatedVersion',\n",
    "                                'at', 'replyContent', 'repliedAt'])\n",
    "tinder.head()"
   ]
  },
  {
   "cell_type": "code",
   "execution_count": 5,
   "id": "19620f3f",
   "metadata": {},
   "outputs": [
    {
     "data": {
      "text/plain": [
       "1    185478\n",
       "5    153363\n",
       "4     42468\n",
       "3     30145\n",
       "2     28932\n",
       "0         1\n",
       "Name: score, dtype: int64"
      ]
     },
     "execution_count": 5,
     "metadata": {},
     "output_type": "execute_result"
    }
   ],
   "source": [
    "tinder['score'].value_counts()"
   ]
  },
  {
   "cell_type": "code",
   "execution_count": 6,
   "id": "8fdf6e83",
   "metadata": {},
   "outputs": [
    {
     "data": {
      "text/plain": [
       "<AxesSubplot: xlabel='score', ylabel='Count'>"
      ]
     },
     "execution_count": 6,
     "metadata": {},
     "output_type": "execute_result"
    },
    {
     "data": {
      "image/png": "[encoded data removed]",
      "text/plain": [
       "<Figure size 640x480 with 1 Axes>"
      ]
     },
     "metadata": {},
     "output_type": "display_data"
    }
   ],
   "source": [
    "sns.histplot(data = tinder, x = tinder['score'], discrete = True)"
   ]
  },
  {
   "cell_type": "markdown",
   "id": "47edca6b",
   "metadata": {},
   "source": [
    "Curiously, there is one review that somehow has a rating of 0. Since it is only a single entry, we will remove that entry."
   ]
  },
  {
   "cell_type": "code",
   "execution_count": 7,
   "id": "1c65d4b0",
   "metadata": {},
   "outputs": [
    {
     "data": {
      "text/html": [
       "<div>\n",
       "<style scoped>\n",
       "    .dataframe tbody tr th:only-of-type {\n",
       "        vertical-align: middle;\n",
       "    }\n",
       "\n",
       "    .dataframe tbody tr th {\n",
       "        vertical-align: top;\n",
       "    }\n",
       "\n",
       "    .dataframe thead th {\n",
       "        text-align: right;\n",
       "    }\n",
       "</style>\n",
       "<table border=\"1\" class=\"dataframe\">\n",
       "  <thead>\n",
       "    <tr style=\"text-align: right;\">\n",
       "      <th></th>\n",
       "      <th>content</th>\n",
       "      <th>score</th>\n",
       "    </tr>\n",
       "  </thead>\n",
       "  <tbody>\n",
       "    <tr>\n",
       "      <th>324374</th>\n",
       "      <td>Love it but ...my match is not replying its a ...</td>\n",
       "      <td>0</td>\n",
       "    </tr>\n",
       "  </tbody>\n",
       "</table>\n",
       "</div>"
      ],
      "text/plain": [
       "                                                  content  score\n",
       "324374  Love it but ...my match is not replying its a ...      0"
      ]
     },
     "execution_count": 7,
     "metadata": {},
     "output_type": "execute_result"
    }
   ],
   "source": [
    "tinder[tinder['score'] == 0]"
   ]
  },
  {
   "cell_type": "code",
   "execution_count": 8,
   "id": "3b76f3e3",
   "metadata": {},
   "outputs": [],
   "source": [
    "tinder = tinder[tinder['score'] != 0]"
   ]
  },
  {
   "cell_type": "markdown",
   "id": "6b1dd761",
   "metadata": {},
   "source": [
    "Since the ratings are in a bimodal distribution, we will combine the lower ratings together and the higher ratings together. Having such an uneven spread of ratings can cause in increase in bias for the most common of ratings. All ratings from 1-3 will be considered negative sentiment and ratings of 4 or 5 will be considered positive sentiment. Combined, that makes 244,555 negative reviews or 56% of the total reviews and 195,831 positive reviews or 44% of the total reviews."
   ]
  },
  {
   "cell_type": "code",
   "execution_count": 9,
   "id": "973deefe",
   "metadata": {},
   "outputs": [
    {
     "data": {
      "text/plain": [
       "0    244555\n",
       "1    195831\n",
       "Name: sentiment, dtype: int64"
      ]
     },
     "execution_count": 9,
     "metadata": {},
     "output_type": "execute_result"
    }
   ],
   "source": [
    "tinder['sentiment'] = np.where(tinder['score'] > 3, 1,0)\n",
    "tinder['sentiment'].value_counts()"
   ]
  },
  {
   "cell_type": "code",
   "execution_count": 10,
   "id": "39bab8b5",
   "metadata": {},
   "outputs": [
    {
     "data": {
      "image/png": "[encoded data removed]",
      "text/plain": [
       "<Figure size 640x480 with 1 Axes>"
      ]
     },
     "metadata": {},
     "output_type": "display_data"
    }
   ],
   "source": [
    "plt.pie(tinder['sentiment'].value_counts(), labels = ['Negative', 'Positive'], autopct='%.0f%%')\n",
    "plt.show()"
   ]
  },
  {
   "cell_type": "markdown",
   "id": "eb8c0911",
   "metadata": {},
   "source": [
    "### Cleaning Data\n",
    "\n",
    "We have now seen some of the preliminary data. Let's start to clean that data into something we can use. Below, we have a method that cleans the text data into something that we can use. For this process, we will be using the nltk library.\n",
    "The process goes:\n",
    "\n",
    "1. Make sure the reveiw is all lowercase\n",
    "2. Remove all punctuation\n",
    "3. Tokenize the text\n",
    "4. Remove any numbers in the review\n",
    "5. Remove any stop words in the review\n",
    "6. Remove any non-ASCII characters\n",
    "7. Lemmatize any verbs still present to reduce the number of similar words i.e. fish, fishing, fished"
   ]
  },
  {
   "cell_type": "code",
   "execution_count": 11,
   "id": "5e4d5df6",
   "metadata": {},
   "outputs": [],
   "source": [
    "import string, re, unicodedata\n",
    "from nltk import word_tokenize\n",
    "from nltk.corpus import stopwords\n",
    "from nltk.stem import LancasterStemmer, WordNetLemmatizer\n",
    "\n",
    "def remove_non_ascii(words):\n",
    "    #Remove non-ASCII characters from list of tokenized words\n",
    "    new_words = []\n",
    "    for word in words:\n",
    "        new_word = unicodedata.normalize('NFKD', word).encode('ascii', 'ignore').decode('utf-8', 'ignore')\n",
    "        new_words.append(new_word)\n",
    "    return new_words\n",
    "\n",
    "def lemmatize_verbs(words):\n",
    "    #Lemmatize verbs in list of tokenized words\n",
    "    lemmatizer = WordNetLemmatizer()\n",
    "    lemmas = []\n",
    "    for word in words:\n",
    "        lemma = lemmatizer.lemmatize(word, pos='v')\n",
    "        lemmas.append(lemma)\n",
    "    return lemmas\n",
    "\n",
    "def clean_data(df, col):\n",
    "    df_set = []\n",
    "    df_set_length = []\n",
    "    for i in range(len(df)):\n",
    "        text = df[col][i]\n",
    "        text = text.lower() #make words all lowercase\n",
    "        text_p = \"\".join([char for char in text if char not in string.punctuation]) #remove punctuation\n",
    "        words = word_tokenize(text_p) #tokenize \n",
    "        words = [word for word in words if word.isalpha()] #remove numbers\n",
    "        stop_words = stopwords.words('english') \n",
    "        filtered_words = [word for word in words if word not in stop_words] #remove stopwords\n",
    "        filtered_words = remove_non_ascii(filtered_words) # Remove any non-ASCII characters\n",
    "        stemmed = lemmatize_verbs(filtered_words) # Lemmatize verbs\n",
    "        \n",
    "        df_set.append(stemmed)\n",
    "        df_set_length.append(len(stemmed))\n",
    "\n",
    "    df['Tokenized'] = df_set\n",
    "    df['SetLength'] = df_set_length\n",
    "    return df"
   ]
  },
  {
   "cell_type": "code",
   "execution_count": 12,
   "id": "b984e69b",
   "metadata": {},
   "outputs": [],
   "source": [
    "tinder['content'] = tinder['content'].astype(str)\n",
    "tinder = tinder.reset_index(drop =  True)\n",
    "tinder = clean_data(tinder, 'content')"
   ]
  },
  {
   "cell_type": "markdown",
   "id": "60df8642",
   "metadata": {},
   "source": [
    "Below is an example of a review before it has been cleaned and after it has been cleaned."
   ]
  },
  {
   "cell_type": "code",
   "execution_count": 13,
   "id": "bcea2e6f",
   "metadata": {},
   "outputs": [
    {
     "name": "stdout",
     "output_type": "stream",
     "text": [
      "Deleted my account and took my money for no reason, don't ever use your credit card fit this app they keep taking money off your card even after they delete your account for no reason without notice\n",
      "['delete', 'account', 'take', 'money', 'reason', 'dont', 'ever', 'use', 'credit', 'card', 'fit', 'app', 'keep', 'take', 'money', 'card', 'even', 'delete', 'account', 'reason', 'without', 'notice']\n"
     ]
    }
   ],
   "source": [
    "print(tinder['content'][56780])\n",
    "print(tinder['Tokenized'][56780])"
   ]
  },
  {
   "cell_type": "markdown",
   "id": "e2247a08",
   "metadata": {},
   "source": [
    "### More Review Distribution Insights\n",
    "\n",
    "While most of the reviews are short and only a few words long, a few of the review have a huge number of words. The median length of a review is only 4 words. The longest review is 341 words. In addition, some of the reviews no longer have any words after going through the cleaning process. This is seen since the minimum length shown is 0. As seen in some of the sample data from above, some reviews only contain an emoji or stop words or a combination of them. Those comments will have no words in it after the review goes through the cleaning process. There are 6179 such reviews and are removed from the dataset. "
   ]
  },
  {
   "cell_type": "code",
   "execution_count": 14,
   "id": "f81f0142",
   "metadata": {},
   "outputs": [
    {
     "name": "stdout",
     "output_type": "stream",
     "text": [
      "minimum 0\n",
      "median 4.0\n",
      "max: 341\n"
     ]
    }
   ],
   "source": [
    "print('minimum', tinder['SetLength'].min())\n",
    "print('median', tinder['SetLength'].median())\n",
    "print('max:', tinder['SetLength'].max())"
   ]
  },
  {
   "cell_type": "code",
   "execution_count": 15,
   "id": "26f2ed72",
   "metadata": {},
   "outputs": [
    {
     "name": "stdout",
     "output_type": "stream",
     "text": [
      "6179\n"
     ]
    }
   ],
   "source": [
    "print(len(tinder[tinder['SetLength'] == 0]))\n",
    "tinder = tinder[tinder['SetLength'] != 0]"
   ]
  },
  {
   "cell_type": "markdown",
   "id": "04ba1a3f",
   "metadata": {},
   "source": [
    "This chart shows the distribution of the length of reviews after the cleaning process. The lengths are heavily skewed towards the right."
   ]
  },
  {
   "cell_type": "code",
   "execution_count": 16,
   "id": "5d38715c",
   "metadata": {},
   "outputs": [
    {
     "data": {
      "text/plain": [
       "<AxesSubplot: xlabel='SetLength', ylabel='Count'>"
      ]
     },
     "execution_count": 16,
     "metadata": {},
     "output_type": "execute_result"
    },
    {
     "data": {
      "image/png": "[encoded data removed]",
      "text/plain": [
       "<Figure size 640x480 with 1 Axes>"
      ]
     },
     "metadata": {},
     "output_type": "display_data"
    }
   ],
   "source": [
    "sns.histplot(data = tinder, x = 'SetLength', discrete = True)"
   ]
  },
  {
   "cell_type": "markdown",
   "id": "3e10d50b",
   "metadata": {},
   "source": [
    "We can also look at the frequency of any words that are used. Below, we see that there are 79,693 unique words that are used from all of the reviews. The five most common are 'app', 'get', 'good', 'tinder' and 'like."
   ]
  },
  {
   "cell_type": "code",
   "execution_count": 17,
   "id": "08627efa",
   "metadata": {},
   "outputs": [
    {
     "name": "stdout",
     "output_type": "stream",
     "text": [
      "79693\n",
      "[('app', 144790), ('get', 71702), ('good', 52264), ('tinder', 49706), ('like', 48659)]\n"
     ]
    }
   ],
   "source": [
    "from collections import Counter\n",
    "\n",
    "def count_words(df):\n",
    "    count = Counter()\n",
    "    for text in df['Tokenized'].values:\n",
    "        for word in text:\n",
    "            count[word] += 1\n",
    "    return count\n",
    "\n",
    "word_freq = count_words(tinder)\n",
    "print(len(word_freq))\n",
    "print(word_freq.most_common(5))"
   ]
  },
  {
   "cell_type": "markdown",
   "id": "251815c5",
   "metadata": {},
   "source": [
    "We now know some of the most frequent words used in these reviews but what are the most common words used for reviews depending on if the review is positive or not?"
   ]
  },
  {
   "cell_type": "code",
   "execution_count": 18,
   "id": "8b97d9e9",
   "metadata": {},
   "outputs": [
    {
     "name": "stdout",
     "output_type": "stream",
     "text": [
      "Positive Reveiw Unique Words 33015\n"
     ]
    },
    {
     "data": {
      "text/plain": [
       "[Text(0.5, 1.0, 'Positive Review')]"
      ]
     },
     "execution_count": 18,
     "metadata": {},
     "output_type": "execute_result"
    },
    {
     "data": {
      "image/png": "[encoded data removed]",
      "text/plain": [
       "<Figure size 640x480 with 1 Axes>"
      ]
     },
     "metadata": {},
     "output_type": "display_data"
    }
   ],
   "source": [
    "good_reviews = tinder[tinder['sentiment'] == 1]\n",
    "bad_reviews = tinder[tinder['sentiment'] == 0]\n",
    "\n",
    "good_freq = count_words(good_reviews)\n",
    "bad_freq = count_words(bad_reviews)\n",
    "\n",
    "print('Positive Reveiw Unique Words', len(good_freq))\n",
    "\n",
    "most_good = good_freq.most_common(10)\n",
    "most_good = pd.DataFrame(most_good, columns = ['word', 'frequency'])\n",
    "sns.barplot(data = most_good, y = most_good['word'],\n",
    "           x = most_good['frequency'], errorbar = None).set(title = 'Positive Review')"
   ]
  },
  {
   "cell_type": "code",
   "execution_count": 19,
   "id": "cc4bd0e3",
   "metadata": {},
   "outputs": [
    {
     "name": "stdout",
     "output_type": "stream",
     "text": [
      "Negative Review Unique Words 62640\n"
     ]
    },
    {
     "data": {
      "text/plain": [
       "[Text(0.5, 1.0, 'Negative Review')]"
      ]
     },
     "execution_count": 19,
     "metadata": {},
     "output_type": "execute_result"
    },
    {
     "data": {
      "image/png": "[encoded data removed]",
      "text/plain": [
       "<Figure size 640x480 with 1 Axes>"
      ]
     },
     "metadata": {},
     "output_type": "display_data"
    }
   ],
   "source": [
    "print('Negative Review Unique Words', len(bad_freq))\n",
    "\n",
    "most_bad = bad_freq.most_common(10)\n",
    "most_bad = pd.DataFrame(most_bad, columns = ['word', 'frequency'])\n",
    "sns.barplot(data = most_bad, y = most_bad['word'],\n",
    "           x = most_good['frequency'], errorbar = None).set(title = 'Negative Review')"
   ]
  },
  {
   "cell_type": "markdown",
   "id": "d9b8e2ce",
   "metadata": {},
   "source": [
    "From the charts above, the vocabulary from negative reviews is almost double of that of positive reviews. Both positive and negative reviews have 'app' as the most common word used. Positive reviews look to have some obvious vocabulary such as good, great, and love. These three terms tend to have a more positive sentiment in the context they are used in. In negative reviews, it looks like there are a lot of reviews about being banned or other problems with the user's account since terms like 'ban', 'account', and 'pay' are commonly seen."
   ]
  },
  {
   "cell_type": "markdown",
   "id": "38f5c82e",
   "metadata": {},
   "source": [
    "## Deep Learning Model Architecture\n",
    "\n",
    "Now we begin to transform the list of words into numbers so the deep learning models can use that data. First, we shuffle the data around and split the data into three different datasets. The three datasets are the training dataset, the validation dataset, and the test dataset. The validation and test datasets will each have 50,000 data points while the training dataset will have the 334,207 remaining data points."
   ]
  },
  {
   "cell_type": "code",
   "execution_count": 20,
   "id": "03559c2c",
   "metadata": {},
   "outputs": [],
   "source": [
    "#shuffle before splitting data\n",
    "tinder_shuffle = tinder.sample(frac = 1)\n",
    "tinder_shuffle = tinder_shuffle.reset_index(drop =  True)"
   ]
  },
  {
   "cell_type": "code",
   "execution_count": 21,
   "id": "d5ccdec9",
   "metadata": {},
   "outputs": [],
   "source": [
    "X_test = list(tinder_shuffle['Tokenized'].iloc[0:50000])\n",
    "X_val = list(tinder_shuffle['Tokenized'].iloc[50000:100000])\n",
    "X_train = list(tinder_shuffle['Tokenized'].iloc[100000:])\n",
    "\n",
    "y_test = tinder_shuffle['sentiment'].iloc[0:50000].to_numpy()\n",
    "y_val = tinder_shuffle['sentiment'].iloc[50000:100000].to_numpy()\n",
    "y_train = tinder_shuffle['sentiment'].iloc[100000:].to_numpy()"
   ]
  },
  {
   "cell_type": "code",
   "execution_count": 22,
   "id": "20f67641",
   "metadata": {
    "scrolled": true
   },
   "outputs": [
    {
     "name": "stdout",
     "output_type": "stream",
     "text": [
      "Train Dataset 334207\n",
      "Validation Dataset 50000\n",
      "Test Dataset 50000\n"
     ]
    }
   ],
   "source": [
    "print('Train Dataset',len(X_train))\n",
    "print('Validation Dataset', len(X_val))\n",
    "print('Test Dataset',len(X_test))"
   ]
  },
  {
   "cell_type": "markdown",
   "id": "70103926",
   "metadata": {},
   "source": [
    "Next, we will use Tokenizer from the keras library to create a dictionary of all the unique words. Each unique word will be assigned a number. Below, you can see that 'app' is assigned to 1, 'get' is assigned to 2 and so on. Two tokenizers are created since we will be testing how the models fare with using all the unique vocabulary versus using a limited vocabulary. The first tokenizer will include all unique words while the second one will only include the top 10,000 most used words."
   ]
  },
  {
   "cell_type": "code",
   "execution_count": 23,
   "id": "f6190b3a",
   "metadata": {},
   "outputs": [],
   "source": [
    "from tensorflow.keras.preprocessing.text import Tokenizer\n",
    "\n",
    "tokenizer1 = Tokenizer(num_words = len(word_freq))\n",
    "tokenizer2 = Tokenizer(num_words = 10000, oov_token = 'oov')"
   ]
  },
  {
   "cell_type": "code",
   "execution_count": 24,
   "id": "d65d13d6",
   "metadata": {},
   "outputs": [],
   "source": [
    "tokenizer1.fit_on_texts(X_train)\n",
    "tokenizer2.fit_on_texts(X_train)"
   ]
  },
  {
   "cell_type": "code",
   "execution_count": 25,
   "id": "daa82061",
   "metadata": {},
   "outputs": [
    {
     "data": {
      "text/plain": [
       "{'app': 1,\n",
       " 'get': 2,\n",
       " 'good': 3,\n",
       " 'tinder': 4,\n",
       " 'like': 5,\n",
       " 'match': 6,\n",
       " 'people': 7,\n",
       " 'ban': 8,\n",
       " 'use': 9,\n",
       " 'account': 10}"
      ]
     },
     "execution_count": 25,
     "metadata": {},
     "output_type": "execute_result"
    }
   ],
   "source": [
    "import itertools\n",
    "dict(itertools.islice(tokenizer1.word_index.items(), 10))"
   ]
  },
  {
   "cell_type": "markdown",
   "id": "8d5edd19",
   "metadata": {},
   "source": [
    "The tokenizer turns the text of the reviews into numbers."
   ]
  },
  {
   "cell_type": "code",
   "execution_count": 26,
   "id": "0a59a583",
   "metadata": {},
   "outputs": [],
   "source": [
    "X_train_seq = tokenizer1.texts_to_sequences(X_train)\n",
    "X_val_seq = tokenizer1.texts_to_sequences(X_val)\n",
    "X_test_seq = tokenizer1.texts_to_sequences(X_test)\n",
    "\n",
    "X_train_seq2 = tokenizer2.texts_to_sequences(X_train)\n",
    "X_val_seq2 = tokenizer2.texts_to_sequences(X_val)\n",
    "X_test_seq2 = tokenizer2.texts_to_sequences(X_test)"
   ]
  },
  {
   "cell_type": "code",
   "execution_count": 27,
   "id": "84cb0366",
   "metadata": {},
   "outputs": [
    {
     "name": "stdout",
     "output_type": "stream",
     "text": [
      "['simple', 'use']\n",
      "[366, 9]\n"
     ]
    }
   ],
   "source": [
    "print(X_train[987])\n",
    "print(X_train_seq[987])"
   ]
  },
  {
   "cell_type": "markdown",
   "id": "14ffc8e5",
   "metadata": {},
   "source": [
    "When processing sequence data, it is very common for individual samples to have different lengths. However, the input data for a deep learning model must be a single tensor. Most reviews are 4 fewer words while the longest one is 341 words. We will have two different lengths of padded reviews. We will have a length of 25 for the dataset with a complete vocabulary and a length of 15 for the tokenized text with only the top 10,000 most used words. If the reveiw is shorter than the given length, zeros will be added to the end. If it is longer, then it will be truncated. Another example is shown below before padding and after padding."
   ]
  },
  {
   "cell_type": "code",
   "execution_count": 28,
   "id": "e7842ae6",
   "metadata": {},
   "outputs": [
    {
     "name": "stdout",
     "output_type": "stream",
     "text": [
      "(334207, 25) (50000, 25) (50000, 25)\n"
     ]
    }
   ],
   "source": [
    "from tensorflow.keras.preprocessing.sequence import pad_sequences\n",
    "\n",
    "X_train_padded = pad_sequences(X_train_seq, maxlen = 25, padding = \"post\", truncating = \"post\")\n",
    "X_val_padded = pad_sequences(X_val_seq, maxlen = 25, padding = \"post\", truncating = \"post\")\n",
    "X_test_padded = pad_sequences(X_test_seq, maxlen = 25, padding = \"post\", truncating = \"post\")\n",
    "print(X_train_padded.shape, X_val_padded.shape, X_test_padded.shape)"
   ]
  },
  {
   "cell_type": "code",
   "execution_count": 29,
   "id": "5f87bc58",
   "metadata": {},
   "outputs": [
    {
     "name": "stdout",
     "output_type": "stream",
     "text": [
      "(334207, 15) (50000, 15) (50000, 15)\n"
     ]
    }
   ],
   "source": [
    "X_train_padded2 = pad_sequences(X_train_seq2, maxlen = 15, padding = \"post\", truncating = \"post\")\n",
    "X_val_padded2 = pad_sequences(X_val_seq2, maxlen = 15, padding = \"post\", truncating = \"post\")\n",
    "X_test_padded2 = pad_sequences(X_test_seq2, maxlen = 15, padding = \"post\", truncating = \"post\")\n",
    "print(X_train_padded2.shape, X_val_padded2.shape, X_test_padded2.shape)"
   ]
  },
  {
   "cell_type": "code",
   "execution_count": 30,
   "id": "1425a2da",
   "metadata": {},
   "outputs": [
    {
     "name": "stdout",
     "output_type": "stream",
     "text": [
      "unpadded [366, 9]\n",
      "padded [366   9   0   0   0   0   0   0   0   0   0   0   0   0   0   0   0   0\n",
      "   0   0   0   0   0   0   0]\n"
     ]
    }
   ],
   "source": [
    "#unpadded vs padded \n",
    "print('unpadded', X_train_seq[987])\n",
    "print('padded', X_train_padded[987])"
   ]
  },
  {
   "cell_type": "markdown",
   "id": "a6206fa8",
   "metadata": {},
   "source": [
    "### LSTM Models\n",
    "\n",
    "The first model we will be creating will be the LSTM model. LSTM is a Long-Short Term Memory model which is a type of Recurrent Neural Network. LSTM is made up of three gates which are the input gate, forget gate and output gate. A LSTM model works well with the the data we have since the neural network has \"memory\" can past data can influence future decision making. In this case, words in the beginning of the review influence words from later on in the review. If I were to make a prediction, the LSTM model will work better with the dataset with the complete vocabulary dictionary and longer reviews since LSTM models tend to work better with more complex datasets.\n",
    "\n",
    "For this LSTM model, I started with an Embedding layer. The Embedding layer is to help the neural network understand the inputs given. The length of tokenizer.word_index is all the possible words that can appear while the input length is the length of each review with padding. A bidirectional LSTM layer is added afterwards. Since order matters in a review, a bidirectional LSTM layer works better than just an LSTM layer. Finally, there is a Dense layer with 64 or 128 units and another Dense layer with a sigmoid activation to determine if the review is positive or not.\n",
    "\n",
    "The keras tuner class is used to tune hyperparameters such as the number of filters for the Embedding and LSTM layers."
   ]
  },
  {
   "cell_type": "code",
   "execution_count": 52,
   "id": "0c0beb71",
   "metadata": {},
   "outputs": [],
   "source": [
    "from keras import layers\n",
    "import keras_tuner\n",
    "\n",
    "def build_lstm(hp):\n",
    "                                      \n",
    "    lstm_model = keras.models.Sequential()\n",
    "    lstm_model.add(layers.Embedding(len(tokenizer1.word_index),hp.Choice('filter1',[16,32]),input_length = 25))\n",
    "    lstm_model.add(layers.Bidirectional(layers.LSTM(hp.Choice('filter2',[16,32]))))\n",
    "    lstm_model.add(layers.Dropout(hp.Float('drop1', 0.1,0.2, step = 0.1)))\n",
    "    lstm_model.add(layers.BatchNormalization())\n",
    "    lstm_model.add(layers.Dense(hp.Choice('dense1',[64,128]), activation = 'relu'))\n",
    "    lstm_model.add(layers.BatchNormalization())\n",
    "    lstm_model.add(layers.Dense(1, activation = \"sigmoid\"))\n",
    "\n",
    "    opt = tf.keras.optimizers.Adam(learning_rate = hp.Choice('lr',[0.001,0.0001]))\n",
    "\n",
    "    lstm_model.compile(loss = \"binary_crossentropy\", optimizer = opt, metrics = [\"accuracy\"])\n",
    "\n",
    "    return lstm_model"
   ]
  },
  {
   "cell_type": "code",
   "execution_count": 55,
   "id": "1a8443f4",
   "metadata": {},
   "outputs": [],
   "source": [
    "from keras_tuner.tuners import RandomSearch\n",
    "tuner_lstm = RandomSearch(\n",
    "    build_lstm,\n",
    "    objective = 'val_accuracy',\n",
    "    max_trials = 32,\n",
    "    executions_per_trial = 1,\n",
    "    overwrite = True,\n",
    "    directory = '../DatingApps/',\n",
    "    project_name = 'tuner'\n",
    ")"
   ]
  },
  {
   "cell_type": "markdown",
   "id": "7937b84d",
   "metadata": {},
   "source": [
    "All the different permutations of the hyperparameters are given below. All models will follow these hyperparameter permutations."
   ]
  },
  {
   "cell_type": "code",
   "execution_count": 50,
   "id": "409ceddc",
   "metadata": {
    "scrolled": true
   },
   "outputs": [
    {
     "name": "stdout",
     "output_type": "stream",
     "text": [
      "Search space summary\n",
      "Default search space size: 5\n",
      "filter1 (Choice)\n",
      "{'default': 16, 'conditions': [], 'values': [16, 32], 'ordered': True}\n",
      "filter2 (Choice)\n",
      "{'default': 16, 'conditions': [], 'values': [16, 32], 'ordered': True}\n",
      "drop1 (Float)\n",
      "{'default': 0.1, 'conditions': [], 'min_value': 0.1, 'max_value': 0.2, 'step': 0.1, 'sampling': 'linear'}\n",
      "dense1 (Choice)\n",
      "{'default': 64, 'conditions': [], 'values': [64, 128], 'ordered': True}\n",
      "lr (Choice)\n",
      "{'default': 0.001, 'conditions': [], 'values': [0.001, 0.0001], 'ordered': True}\n"
     ]
    }
   ],
   "source": [
    "tuner_lstm.search_space_summary()"
   ]
  },
  {
   "cell_type": "code",
   "execution_count": 56,
   "id": "d113ea28",
   "metadata": {},
   "outputs": [
    {
     "name": "stdout",
     "output_type": "stream",
     "text": [
      "Trial 30 Complete [00h 01m 41s]\n",
      "val_accuracy: 0.8898199796676636\n",
      "\n",
      "Best val_accuracy So Far: 0.8902999758720398\n",
      "Total elapsed time: 00h 50m 18s\n",
      "INFO:tensorflow:Oracle triggered exit\n"
     ]
    }
   ],
   "source": [
    "epoch = 5\n",
    "tuner_lstm.search(X_train_padded, y_train, epochs = epoch, validation_data = (X_val_padded, y_val), batch_size = 256)"
   ]
  },
  {
   "cell_type": "markdown",
   "id": "d995e117",
   "metadata": {},
   "source": [
    "The second LSTM model is using the dataset with a 10,000 maximum vocabulary and each review tensor has a length a 15."
   ]
  },
  {
   "cell_type": "code",
   "execution_count": 57,
   "id": "96b73ad9",
   "metadata": {},
   "outputs": [],
   "source": [
    "def build_lstm2(hp):\n",
    "                                      \n",
    "    lstm_model = keras.models.Sequential()\n",
    "    lstm_model.add(layers.Embedding(len(tokenizer2.word_index),hp.Choice('filter1',[16,32]),input_length = 15))\n",
    "    lstm_model.add(layers.Bidirectional(layers.LSTM(hp.Choice('filter2',[16,32]))))\n",
    "    lstm_model.add(layers.Dropout(hp.Float('drop1', 0.1,0.2, step = 0.1)))\n",
    "    lstm_model.add(layers.BatchNormalization())\n",
    "    lstm_model.add(layers.Dense(hp.Choice('dense1',[64,128]), activation = 'relu'))\n",
    "    lstm_model.add(layers.Dense(1, activation = \"sigmoid\"))\n",
    "\n",
    "    opt = tf.keras.optimizers.Adam(learning_rate = hp.Choice('lr',[0.001,0.0001]))\n",
    "\n",
    "    lstm_model.compile(loss = \"binary_crossentropy\", optimizer = opt, metrics = [\"accuracy\"])\n",
    "\n",
    "    return lstm_model"
   ]
  },
  {
   "cell_type": "code",
   "execution_count": 58,
   "id": "992319fc",
   "metadata": {},
   "outputs": [],
   "source": [
    "tuner_lstm2 = RandomSearch(\n",
    "    build_lstm2,\n",
    "    objective = 'val_accuracy',\n",
    "    max_trials = 32,\n",
    "    executions_per_trial = 1,\n",
    "    overwrite = True,\n",
    "    directory = '../DatingApps/',\n",
    "    project_name = 'tuner2'\n",
    ")"
   ]
  },
  {
   "cell_type": "code",
   "execution_count": 59,
   "id": "b77dcc0e",
   "metadata": {},
   "outputs": [
    {
     "name": "stdout",
     "output_type": "stream",
     "text": [
      "Trial 30 Complete [00h 01m 24s]\n",
      "val_accuracy: 0.8896200060844421\n",
      "\n",
      "Best val_accuracy So Far: 0.8903800249099731\n",
      "Total elapsed time: 00h 42m 40s\n",
      "INFO:tensorflow:Oracle triggered exit\n"
     ]
    }
   ],
   "source": [
    "tuner_lstm2.search(X_train_padded2, y_train, epochs = 5, validation_data = (X_val_padded2, y_val), batch_size = 256)"
   ]
  },
  {
   "cell_type": "markdown",
   "id": "4c63beb8",
   "metadata": {},
   "source": [
    "The best validation accuracy for the first model is 0.8903 and the best validation accuracy for the second model is 0.89038. The scores are very close but the second model is ever slightly better. This is quite surprising since I predicted the first model with the more complex dataset will do better. The second model also has a shorter input and a shorter word index, it is also more than 7 minutes faster running all the hyperparameter possibilities. \n",
    "Listed below are the best two combinations of hyperparameters for the two models with different datasets."
   ]
  },
  {
   "cell_type": "code",
   "execution_count": 60,
   "id": "90ef3d99",
   "metadata": {},
   "outputs": [
    {
     "name": "stdout",
     "output_type": "stream",
     "text": [
      "{'filter1': 32, 'filter2': 16, 'drop1': 0.1, 'dense1': 64, 'lr': 0.0001}\n",
      "{'filter1': 16, 'filter2': 32, 'drop1': 0.1, 'dense1': 64, 'lr': 0.001}\n"
     ]
    }
   ],
   "source": [
    "best_lstm = tuner_lstm.get_best_hyperparameters(num_trials = 1)[0]\n",
    "print(best_lstm.values)\n",
    "best_lstm2 = tuner_lstm2.get_best_hyperparameters(num_trials = 1)[0]\n",
    "print(best_lstm2.values)"
   ]
  },
  {
   "cell_type": "markdown",
   "id": "0cdc2f76",
   "metadata": {},
   "source": [
    "Shown is a summary of the best LSTM model from both datasets. The best model used the simplified dataset of 10,000 unique words with a maximum length of 15 words. The best parameters are:\n",
    "- 16 units for  the Embedding layer\n",
    "- 32 units for the LSTM layer, 64 total since the LSTM layer is bidirectional\n",
    "- 0.1 dropout\n",
    "- 64 units for the Dense layer\n",
    "- learning rate of 0.001\n",
    "\n",
    "A summary of that model is below:"
   ]
  },
  {
   "cell_type": "code",
   "execution_count": 74,
   "id": "02ad1891",
   "metadata": {},
   "outputs": [
    {
     "name": "stdout",
     "output_type": "stream",
     "text": [
      "Model: \"sequential_7\"\n",
      "_________________________________________________________________\n",
      "Layer (type)                 Output Shape              Param #   \n",
      "=================================================================\n",
      "embedding_7 (Embedding)      (None, 15, 16)            1075472   \n",
      "_________________________________________________________________\n",
      "bidirectional_7 (Bidirection (None, 64)                12544     \n",
      "_________________________________________________________________\n",
      "dropout_7 (Dropout)          (None, 64)                0         \n",
      "_________________________________________________________________\n",
      "batch_normalization_9 (Batch (None, 64)                256       \n",
      "_________________________________________________________________\n",
      "dense_14 (Dense)             (None, 64)                4160      \n",
      "_________________________________________________________________\n",
      "dense_15 (Dense)             (None, 1)                 65        \n",
      "=================================================================\n",
      "Total params: 1,092,497\n",
      "Trainable params: 1,092,369\n",
      "Non-trainable params: 128\n",
      "_________________________________________________________________\n"
     ]
    }
   ],
   "source": [
    "best_lstm_model = tuner_lstm2.hypermodel.build(best_lstm2)\n",
    "best_lstm_model.summary()"
   ]
  },
  {
   "cell_type": "markdown",
   "id": "9ffa4ed6",
   "metadata": {},
   "source": [
    "In the accuracy graph, we see that after the third epoch, the validation accuracy did not really improve. In the loss graph, the validation loss was the least at the third epoch. This shows a bit of overfitting but not a drastic example of overfitting."
   ]
  },
  {
   "cell_type": "code",
   "execution_count": 75,
   "id": "4f3d1452",
   "metadata": {},
   "outputs": [],
   "source": [
    "history_lstm = best_lstm_model.fit(X_train_padded2, y_train, epochs = 5, \n",
    "                                   validation_data = (X_val_padded2, y_val), batch_size = 256, verbose = 0)"
   ]
  },
  {
   "cell_type": "code",
   "execution_count": 76,
   "id": "9738e062",
   "metadata": {},
   "outputs": [
    {
     "data": {
      "text/plain": [
       "<matplotlib.legend.Legend at 0x1cb78013c40>"
      ]
     },
     "execution_count": 76,
     "metadata": {},
     "output_type": "execute_result"
    },
    {
     "data": {
      "image/png": "[encoded data removed]",
      "text/plain": [
       "<Figure size 1200x500 with 2 Axes>"
      ]
     },
     "metadata": {},
     "output_type": "display_data"
    }
   ],
   "source": [
    "epoch = 5\n",
    "epoch_lst = list(range(1, epoch + 1))\n",
    "accuracy = pd.DataFrame(list(zip(epoch_lst, history_lstm.history['accuracy'],\n",
    "                        history_lstm.history['val_accuracy'])),\n",
    "                        columns = ['Epoch','Accuracy', 'Val_Accuracy'])\n",
    "loss = pd.DataFrame(list(zip(epoch_lst, history_lstm.history['loss'],\n",
    "                        history_lstm.history['val_loss'])),\n",
    "                        columns = ['Epoch','Loss', 'Val_Loss'])\n",
    "\n",
    "fig, (ax1, ax2) = plt.subplots(1,2, figsize = (12,5))\n",
    "\n",
    "ax1.plot(accuracy['Epoch'],accuracy['Accuracy'])\n",
    "ax1.plot(accuracy['Epoch'],accuracy['Val_Accuracy'])\n",
    "ax1.legend(['Accuracy', 'Val_Accuracy'])\n",
    "\n",
    "ax2.plot(loss['Epoch'], loss['Loss'])\n",
    "ax2.plot(loss['Epoch'], loss['Val_Loss'])\n",
    "ax2.legend(['Loss', 'Val_Loss'])\n"
   ]
  },
  {
   "cell_type": "markdown",
   "id": "b1e6b1a4",
   "metadata": {},
   "source": [
    "Now that we have our LSTM models trained, we can use the best one to predict the sentiment of the test dataset. Out of 50,000 reviews in the test dataset, 25,216 of the negative reviews were predicted correctly. There were 19,196 positive reviews that were predicted correctly. Of the improperly predicted reviews, 2,896 negative reviews were improperly predicted as positive reviews and 2,692 positive reviews were improperly predicted as negative reviews. "
   ]
  },
  {
   "cell_type": "code",
   "execution_count": 82,
   "id": "4c3906c5",
   "metadata": {},
   "outputs": [
    {
     "data": {
      "text/plain": [
       "<sklearn.metrics._plot.confusion_matrix.ConfusionMatrixDisplay at 0x1cb66ceff70>"
      ]
     },
     "execution_count": 82,
     "metadata": {},
     "output_type": "execute_result"
    },
    {
     "data": {
      "image/png": "[encoded data removed]",
      "text/plain": [
       "<Figure size 640x480 with 2 Axes>"
      ]
     },
     "metadata": {},
     "output_type": "display_data"
    }
   ],
   "source": [
    "y_pred_lstm = best_lstm_model.predict(X_test_padded2)\n",
    "y_pred_lstm = np.round(y_pred_lstm,0)\n",
    "\n",
    "from sklearn.metrics import confusion_matrix, ConfusionMatrixDisplay\n",
    "cm_lstm = confusion_matrix(y_test, y_pred_lstm)\n",
    "disp1 = ConfusionMatrixDisplay(confusion_matrix = cm_lstm)\n",
    "disp1.plot()"
   ]
  },
  {
   "cell_type": "markdown",
   "id": "7b6ad1fb",
   "metadata": {},
   "source": [
    "### GRU Model\n",
    "\n",
    "The second type of model we will use is the GRU model. The GRU model is similar to the LSTM model but has one less gate. It contains an update gate and a reset gate. The update gate acts similarly to the forget and imput gate of an LSTM which decides which imformation to keep and forget. The reset gate decides how much information to forget. For the GRU models, I predict that the simpler dataset with a 10,000 word voacabulary and a 15 length review would perform better due to less overfitting.\n",
    "\n",
    "Like the LSTM model, there is an Embedding layer to help the neural network understand the inputs given since the input is the same as the prior model. Next there is a bidirectional GRU layer. The GRU layer is followed by two Dense layers. The first Dense layer has either 64 or 128 units. The second layer has a sigmoid activation to determine either a positive or negative review. A bidirectional GRU layer works well the same reason as why a bidirectional LSTM model worked well above."
   ]
  },
  {
   "cell_type": "code",
   "execution_count": 83,
   "id": "2b2a5b7e",
   "metadata": {},
   "outputs": [],
   "source": [
    "def build_gru(hp):\n",
    "    \n",
    "    gru_model = keras.models.Sequential()\n",
    "    gru_model.add(layers.Embedding(len(tokenizer1.word_index),hp.Choice('filter1',[16,32]),input_length = 25))\n",
    "    gru_model.add(layers.Bidirectional(layers.GRU(hp.Choice('filter2',[16,32]))))\n",
    "    gru_model.add(layers.Dropout(hp.Float('drop1', 0.1,0.2, step = 0.1)))\n",
    "    gru_model.add(layers.BatchNormalization())\n",
    "    gru_model.add(layers.Dense(hp.Choice('dense1',[64,128]), activation = 'relu'))\n",
    "    gru_model.add(layers.Dense(1, activation = \"sigmoid\"))\n",
    "\n",
    "    opt = tf.keras.optimizers.Adam(learning_rate = hp.Choice('lr',[0.001,0.0001]))\n",
    "\n",
    "    gru_model.compile(loss = \"binary_crossentropy\", optimizer = opt, metrics = [\"accuracy\"])\n",
    "\n",
    "    return gru_model"
   ]
  },
  {
   "cell_type": "code",
   "execution_count": 84,
   "id": "2eb6722d",
   "metadata": {},
   "outputs": [],
   "source": [
    "from keras_tuner.tuners import RandomSearch\n",
    "tuner_gru = RandomSearch(\n",
    "    build_gru,\n",
    "    objective = 'val_accuracy',\n",
    "    max_trials = 32,\n",
    "    executions_per_trial = 1,\n",
    "    overwrite = True,\n",
    "    directory = '../DatingApps/',\n",
    "    project_name = 'tuner_gru1'\n",
    ")"
   ]
  },
  {
   "cell_type": "code",
   "execution_count": 85,
   "id": "6885e78d",
   "metadata": {},
   "outputs": [
    {
     "name": "stdout",
     "output_type": "stream",
     "text": [
      "Trial 28 Complete [00h 01m 24s]\n",
      "val_accuracy: 0.8891599774360657\n",
      "\n",
      "Best val_accuracy So Far: 0.8906800150871277\n",
      "Total elapsed time: 00h 38m 07s\n",
      "INFO:tensorflow:Oracle triggered exit\n"
     ]
    }
   ],
   "source": [
    "tuner_gru.search(X_train_padded, y_train, epochs = 5, validation_data = (X_val_padded, y_val), batch_size = 256)"
   ]
  },
  {
   "cell_type": "code",
   "execution_count": 86,
   "id": "7998efb5",
   "metadata": {},
   "outputs": [],
   "source": [
    "def build_gru2(hp):\n",
    "    \n",
    "    gru_model = keras.models.Sequential()\n",
    "    gru_model.add(layers.Embedding(len(tokenizer2.word_index),hp.Choice('filter1',[16,32]),input_length = 15))\n",
    "    gru_model.add(layers.Bidirectional(layers.GRU(hp.Choice('filter2',[16,32]))))\n",
    "    gru_model.add(layers.Dropout(hp.Float('drop1', 0.1,0.2, step = 0.1)))\n",
    "    gru_model.add(layers.BatchNormalization())\n",
    "    gru_model.add(layers.Dense(hp.Choice('dense1',[64,128]), activation = 'relu'))\n",
    "    gru_model.add(layers.Dense(1, activation = \"sigmoid\"))\n",
    "\n",
    "    opt = tf.keras.optimizers.Adam(learning_rate = hp.Choice('lr',[0.001,0.0001]))\n",
    "\n",
    "    gru_model.compile(loss = \"binary_crossentropy\", optimizer = opt, metrics = [\"accuracy\"])\n",
    "\n",
    "    return gru_model"
   ]
  },
  {
   "cell_type": "code",
   "execution_count": 87,
   "id": "3731db19",
   "metadata": {},
   "outputs": [
    {
     "name": "stdout",
     "output_type": "stream",
     "text": [
      "Trial 29 Complete [00h 01m 15s]\n",
      "val_accuracy: 0.8893399834632874\n",
      "\n",
      "Best val_accuracy So Far: 0.8899199962615967\n",
      "Total elapsed time: 00h 36m 01s\n",
      "INFO:tensorflow:Oracle triggered exit\n"
     ]
    }
   ],
   "source": [
    "from keras_tuner.tuners import RandomSearch\n",
    "tuner_gru2 = RandomSearch(\n",
    "    build_gru2,\n",
    "    objective = 'val_accuracy',\n",
    "    max_trials = 32,\n",
    "    executions_per_trial = 1,\n",
    "    overwrite = True,\n",
    "    directory = '../DatingApps/',\n",
    "    project_name = 'tuner_gru2'\n",
    ")\n",
    "tuner_gru2.search(X_train_padded2, y_train, epochs = 5, validation_data = (X_val_padded2, y_val), batch_size = 256)"
   ]
  },
  {
   "cell_type": "markdown",
   "id": "8375721d",
   "metadata": {},
   "source": [
    "The best validation accuracy for the first model is 0.8907 and the best validation accuracy for the second model is 0.8899. The scores are very close but this time the first model is ever slightly better. Surprisingly, the larger dataset worked better in this case.  Listed below are the best two combinations of hyperparameters for the two models with different datasets."
   ]
  },
  {
   "cell_type": "code",
   "execution_count": 88,
   "id": "559409a0",
   "metadata": {},
   "outputs": [
    {
     "name": "stdout",
     "output_type": "stream",
     "text": [
      "{'filter1': 32, 'filter2': 32, 'drop1': 0.2, 'dense1': 64, 'lr': 0.001}\n",
      "{'filter1': 32, 'filter2': 16, 'drop1': 0.2, 'dense1': 128, 'lr': 0.001}\n"
     ]
    }
   ],
   "source": [
    "best_gru = tuner_gru.get_best_hyperparameters(num_trials = 1)[0]\n",
    "print(best_gru.values)\n",
    "best_gru2 = tuner_gru2.get_best_hyperparameters(num_trials = 1)[0]\n",
    "print(best_gru2.values)"
   ]
  },
  {
   "cell_type": "markdown",
   "id": "9592da7e",
   "metadata": {},
   "source": [
    "Shown is a summary of the best GRU model from both datasets. The best model used the complete dataset of all possible unique words with a maximum length of 25 words. The best parameters are:\n",
    "\n",
    "- 32 units for the Embedding layer\n",
    "- 32 units for the LSTM layer, 64 total since the LSTM layer is bidirectional\n",
    "- 0.2 dropout\n",
    "- 64 units for the Dense layer\n",
    "- learning rate of 0.001\n",
    "- A summary of that model is below:\n",
    "\n",
    "The summary is shown below:"
   ]
  },
  {
   "cell_type": "code",
   "execution_count": 212,
   "id": "0410de8a",
   "metadata": {},
   "outputs": [
    {
     "name": "stdout",
     "output_type": "stream",
     "text": [
      "Model: \"sequential_12\"\n",
      "_________________________________________________________________\n",
      "Layer (type)                 Output Shape              Param #   \n",
      "=================================================================\n",
      "embedding_10 (Embedding)     (None, 25, 32)            2150912   \n",
      "_________________________________________________________________\n",
      "bidirectional_1 (Bidirection (None, 64)                12672     \n",
      "_________________________________________________________________\n",
      "dropout_1 (Dropout)          (None, 64)                0         \n",
      "_________________________________________________________________\n",
      "batch_normalization_1 (Batch (None, 64)                256       \n",
      "_________________________________________________________________\n",
      "dense_9 (Dense)              (None, 64)                4160      \n",
      "_________________________________________________________________\n",
      "dense_10 (Dense)             (None, 1)                 65        \n",
      "=================================================================\n",
      "Total params: 2,168,065\n",
      "Trainable params: 2,167,937\n",
      "Non-trainable params: 128\n",
      "_________________________________________________________________\n"
     ]
    }
   ],
   "source": [
    "best_gru_model = tuner_gru.hypermodel.build(best_gru)\n",
    "best_gru_model.summary()"
   ]
  },
  {
   "cell_type": "markdown",
   "id": "40caf9e5",
   "metadata": {},
   "source": [
    "In the accuracy chart, validation accuracy started high and mostly trended downwards as the epochs increased. For the loss chart, the validation loss was higher the whole time. The overfitting can be attributed to using larger vocabulary dataset and longer review length. Although I was incorrect for which dataset would fare better for classification validation, I was correct in the fact the the model with the larger dataset has a ton of overfitting issues."
   ]
  },
  {
   "cell_type": "code",
   "execution_count": 214,
   "id": "50ab79ed",
   "metadata": {},
   "outputs": [],
   "source": [
    "history_gru = best_gru_model.fit(X_train_padded, y_train, epochs = 5, \n",
    "                                 validation_data = (X_val_padded, y_val), batch_size = 256, verbose = 0)"
   ]
  },
  {
   "cell_type": "code",
   "execution_count": 215,
   "id": "27412b30",
   "metadata": {},
   "outputs": [
    {
     "data": {
      "text/plain": [
       "<matplotlib.legend.Legend at 0x1cb9b32ef10>"
      ]
     },
     "execution_count": 215,
     "metadata": {},
     "output_type": "execute_result"
    },
    {
     "data": {
      "image/png": "[encoded data removed]",
      "text/plain": [
       "<Figure size 1200x500 with 2 Axes>"
      ]
     },
     "metadata": {},
     "output_type": "display_data"
    }
   ],
   "source": [
    "epoch = 5\n",
    "epoch_lst = list(range(1, epoch + 1))\n",
    "accuracy = pd.DataFrame(list(zip(epoch_lst, history_gru.history['accuracy'],\n",
    "                        history_gru.history['val_accuracy'])),\n",
    "                        columns = ['Epoch','Accuracy', 'Val_Accuracy'])\n",
    "loss = pd.DataFrame(list(zip(epoch_lst, history_gru.history['loss'],\n",
    "                        history_gru.history['val_loss'])),\n",
    "                        columns = ['Epoch','Loss', 'Val_Loss'])\n",
    "\n",
    "fig, (ax1, ax2) = plt.subplots(1,2, figsize = (12,5))\n",
    "\n",
    "ax1.plot(accuracy['Epoch'],accuracy['Accuracy'])\n",
    "ax1.plot(accuracy['Epoch'],accuracy['Val_Accuracy'])\n",
    "ax1.legend(['Accuracy', 'Val_Accuracy'])\n",
    "\n",
    "ax2.plot(loss['Epoch'], loss['Loss'])\n",
    "ax2.plot(loss['Epoch'], loss['Val_Loss'])\n",
    "ax2.legend(['Loss', 'Val_Loss'])"
   ]
  },
  {
   "cell_type": "markdown",
   "id": "a8b08001",
   "metadata": {},
   "source": [
    "Even though the charts above look to have high amounts of overfitting, the prediction results still come out quite favorable. Out of 50,000 reviews in the test dataset, 25,394 of the negative reviews were predicted correctly. There were 18,916 positive reviews that were predicted correctly. Of the improperly predicted reviews, 2,718 negative reviews were improperly predicted as positive reviews and 2,972 positive reviews were improperly predicted as negative reviews."
   ]
  },
  {
   "cell_type": "code",
   "execution_count": 216,
   "id": "a0ad29fc",
   "metadata": {},
   "outputs": [
    {
     "data": {
      "text/plain": [
       "<sklearn.metrics._plot.confusion_matrix.ConfusionMatrixDisplay at 0x1cb9b397eb0>"
      ]
     },
     "execution_count": 216,
     "metadata": {},
     "output_type": "execute_result"
    },
    {
     "data": {
      "image/png": "[encoded data removed]",
      "text/plain": [
       "<Figure size 640x480 with 2 Axes>"
      ]
     },
     "metadata": {},
     "output_type": "display_data"
    }
   ],
   "source": [
    "y_pred_gru = best_gru_model.predict(X_test_padded)\n",
    "y_pred_gru = np.round(y_pred_gru,0)\n",
    "cm_gru = confusion_matrix(y_test, y_pred_gru)\n",
    "disp2 = ConfusionMatrixDisplay(confusion_matrix = cm_gru)\n",
    "disp2.plot()"
   ]
  },
  {
   "cell_type": "markdown",
   "id": "298351d3",
   "metadata": {},
   "source": [
    "## Conclusion\n",
    "\n",
    "In this notebook, we have gone through classifying reviews sentiment for Tinder. We have had success in predicting if a review of an app is positive or negative. Being able to predict a review sentiment can help app creators understand what users like or dislike about the app. One thing that went well for the sentiment classification was the accuracy. For both the validation dataset and the prediction dataset, we were able to predict almost 90% of the reviews correctly. Of the four different models we trained, I would say the LSTM model with the full vocabulary with the maximum length of 25 words per review(first model) is the best. Although the first GRU model had an ever so slightly higher validation accuracy, the extreme overfitting would push me away from using it. If more review information was introduced in the future, the model would have a harder time adjusting to new training, validation, or test data. Continuing on, one challenge we had was getting the model to not overfit the training data. Natural language processing tends to overfit easily since there are so many possibility of unique words making the number of possible permutations of those words even greater. As seen in the results, the simpler dataset with only 10,000 possible unique words and a max length of 15 words per review fared better when it came to overfitting.\n"
   ]
  },
  {
   "cell_type": "code",
   "execution_count": null,
   "id": "03cf72dd",
   "metadata": {},
   "outputs": [],
   "source": []
  }
 ],
 "metadata": {
  "kernelspec": {
   "display_name": "Python 3 (ipykernel)",
   "language": "python",
   "name": "python3"
  },
  "language_info": {
   "codemirror_mode": {
    "name": "ipython",
    "version": 3
   },
   "file_extension": ".py",
   "mimetype": "text/x-python",
   "name": "python",
   "nbconvert_exporter": "python",
   "pygments_lexer": "ipython3",
   "version": "3.9.16"
  }
 },
 "nbformat": 4,
 "nbformat_minor": 5
}
